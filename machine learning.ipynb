{
 "cells": [
  {
   "cell_type": "markdown",
   "id": "c1875019-f25a-43e1-80d7-8fc86ada9547",
   "metadata": {},
   "source": [
    "machine learning assinment 1\n",
    "\n",
    "answer 1: 1)AI: AI is a smart application that can use perform its ouwn task withought any human instruction self driving,robot 2)ML: it provide statstool to analyze ,visualize,predictive model,freecasting recommendation system 3)DP:mimic the human brain ex:image recognization\n",
    "\n",
    "Answer 2: The goal of supervised learning algorithms is learning a function that maps feature vectors (inputs) to labels (output), based on example input-output pairs. example: classification,regretion\n",
    "\n",
    "Answer 3: Unsupervised learning refers to algorithms that learn patterns from unlabeled data. example : customer segmentation\n",
    "\n",
    "Answer 4: 🔹Artificial Intelligence (AI) enables machines to think by understanding, learning from the data, and taking decisions based on patterns hidden in the data or make inferences that would otherwise be very difficult for humans to make manually. The end goal of using ML or DL is to create an AI application or machine as smart as humans.\n",
    "\n",
    "🔹Machine Learning (ML) is a subset of AI; it provides us statistical tools/techniques like Supervised, Unsupervised, and Reinforcement learning to explore and analyze the data.\n",
    "\n",
    "🔹Deep Learning (DL) is further a subset of ML, and the main idea behind it is to make machines learn by mimicking the human brain. Here, we create a multi neural network architecture with the help of different techniques like ANN, CNN, and RNN.\n",
    "\n",
    "🔹Data Science (DS) is basically drawing insights from structured and unstructured data either by using ML or DL or without these techniques. We can even use different visualization tools, statistics, and probability to gain these insights.\n",
    "\n",
    "Answer 5:\n",
    "\n",
    "supervised requires labeled data for training\n",
    "unsupervised does not requires labeled data for training\n",
    "semi-supervised requires both labeled data for training\n",
    "Answer 6: In most supervised machine learning tasks, best practice recommends to split your data into three independent sets: a training set, a testing set, and a validation\n",
    "\n",
    "importance\n",
    "train: we will tarin our model\n",
    "vallidation : hyper tunning of the model\n",
    "Test: moduel will be test\n",
    "Answer 7:\n",
    "Anomaly detection techniques of unsupervised nature assume that normal data points occur considerably more frequently than anomalous data points. This assumption is used to classify data points that occur less frequently as anomalies. Unsupervised techniques assign each data point a score instead of a label.\n",
    "\n",
    "answer 8:\n",
    "Logistic Regression. Decision trees. Support vector machine (SVM) k-Nearest Neighbors. Naive Bayes. Random forest. Linear regression. polynomial regression.\n",
    "\n",
    "​\n",
    "\n"
   ]
  },
  {
   "cell_type": "code",
   "execution_count": null,
   "id": "2d53adda-ff9d-4f82-b60d-e7f363d1cebc",
   "metadata": {},
   "outputs": [],
   "source": []
  }
 ],
 "metadata": {
  "kernelspec": {
   "display_name": "Python 3 (ipykernel)",
   "language": "python",
   "name": "python3"
  },
  "language_info": {
   "codemirror_mode": {
    "name": "ipython",
    "version": 3
   },
   "file_extension": ".py",
   "mimetype": "text/x-python",
   "name": "python",
   "nbconvert_exporter": "python",
   "pygments_lexer": "ipython3",
   "version": "3.10.8"
  }
 },
 "nbformat": 4,
 "nbformat_minor": 5
}
